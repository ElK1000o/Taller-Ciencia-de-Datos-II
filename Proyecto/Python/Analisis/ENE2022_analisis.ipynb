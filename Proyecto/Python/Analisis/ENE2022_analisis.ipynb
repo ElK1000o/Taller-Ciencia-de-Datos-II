{
 "cells": [
  {
   "cell_type": "code",
   "execution_count": 5,
   "metadata": {},
   "outputs": [],
   "source": [
    "import pandas as pd\n",
    "import numpy as np\n",
    "import matplotlib.pyplot as plt\n",
    "from pylab import *\n",
    "import seaborn as sns\n",
    "%matplotlib inline\n",
    "%config InlineBackend.figure_format = 'svg'"
   ]
  },
  {
   "cell_type": "code",
   "execution_count": 26,
   "metadata": {},
   "outputs": [
    {
     "data": {
      "text/html": [
       "<div>\n",
       "<style scoped>\n",
       "    .dataframe tbody tr th:only-of-type {\n",
       "        vertical-align: middle;\n",
       "    }\n",
       "\n",
       "    .dataframe tbody tr th {\n",
       "        vertical-align: top;\n",
       "    }\n",
       "\n",
       "    .dataframe thead th {\n",
       "        text-align: right;\n",
       "    }\n",
       "</style>\n",
       "<table border=\"1\" class=\"dataframe\">\n",
       "  <thead>\n",
       "    <tr style=\"text-align: right;\">\n",
       "      <th></th>\n",
       "      <th>id_persona</th>\n",
       "      <th>sexo</th>\n",
       "      <th>edad</th>\n",
       "      <th>edad_tr</th>\n",
       "      <th>sexo_edad</th>\n",
       "      <th>region</th>\n",
       "      <th>educa</th>\n",
       "      <th>habituales</th>\n",
       "      <th>efectivas</th>\n",
       "      <th>grupoOcup_ciuo08</th>\n",
       "      <th>...</th>\n",
       "      <th>categoria_ocupacion</th>\n",
       "      <th>ocup_form</th>\n",
       "      <th>proveedor</th>\n",
       "      <th>parentesco</th>\n",
       "      <th>hrs_diarias</th>\n",
       "      <th>dias_sem</th>\n",
       "      <th>hrs_sem</th>\n",
       "      <th>empresaPaga_ciiu4</th>\n",
       "      <th>empresaTrabaja_ciiu4</th>\n",
       "      <th>empresaDueno_ciiu4</th>\n",
       "    </tr>\n",
       "  </thead>\n",
       "  <tbody>\n",
       "    <tr>\n",
       "      <th>0</th>\n",
       "      <td>14565</td>\n",
       "      <td>Hombre</td>\n",
       "      <td>36</td>\n",
       "      <td>Jovenes</td>\n",
       "      <td>Hombre joven</td>\n",
       "      <td>Región del Biobío</td>\n",
       "      <td>Educación Media</td>\n",
       "      <td>70.0</td>\n",
       "      <td>70.0</td>\n",
       "      <td>Trabajadores de los servicios y vendedores de ...</td>\n",
       "      <td>...</td>\n",
       "      <td>Cuenta propia (independiente)</td>\n",
       "      <td>Ocupado formal</td>\n",
       "      <td>No corresponde</td>\n",
       "      <td>Hijo/a o hijastro/a</td>\n",
       "      <td>10.0</td>\n",
       "      <td>7.0</td>\n",
       "      <td>70.0</td>\n",
       "      <td>NaN</td>\n",
       "      <td>G Comercio al por mayor y al por menor; repara...</td>\n",
       "      <td>G Comercio al por mayor y al por menor; repara...</td>\n",
       "    </tr>\n",
       "    <tr>\n",
       "      <th>1</th>\n",
       "      <td>78431</td>\n",
       "      <td>Mujer</td>\n",
       "      <td>56</td>\n",
       "      <td>Adultos</td>\n",
       "      <td>Mujer adulta</td>\n",
       "      <td>Región de O'Higgins</td>\n",
       "      <td>Educación Básica</td>\n",
       "      <td>45.0</td>\n",
       "      <td>45.0</td>\n",
       "      <td>Ocupaciones elementales</td>\n",
       "      <td>...</td>\n",
       "      <td>Personal de servicio doméstico puertas afuera</td>\n",
       "      <td>Ocupado formal</td>\n",
       "      <td>No corresponde</td>\n",
       "      <td>NaN</td>\n",
       "      <td>9.0</td>\n",
       "      <td>5.0</td>\n",
       "      <td>45.0</td>\n",
       "      <td>NaN</td>\n",
       "      <td>T Actividades de los hogares como empleadores;...</td>\n",
       "      <td>T Actividades de los hogares como empleadores;...</td>\n",
       "    </tr>\n",
       "    <tr>\n",
       "      <th>2</th>\n",
       "      <td>295619</td>\n",
       "      <td>Hombre</td>\n",
       "      <td>34</td>\n",
       "      <td>Jovenes</td>\n",
       "      <td>Hombre joven</td>\n",
       "      <td>Región de Tarapacá</td>\n",
       "      <td>Universitaria incompleta</td>\n",
       "      <td>5.0</td>\n",
       "      <td>5.0</td>\n",
       "      <td>Profesionales científicos e intelectuales</td>\n",
       "      <td>...</td>\n",
       "      <td>Cuenta propia (independiente)</td>\n",
       "      <td>Ocupado formal</td>\n",
       "      <td>No corresponde</td>\n",
       "      <td>Conviviente</td>\n",
       "      <td>5.0</td>\n",
       "      <td>1.0</td>\n",
       "      <td>5.0</td>\n",
       "      <td>NaN</td>\n",
       "      <td>M Actividades profesionales, científicas y tec...</td>\n",
       "      <td>M Actividades profesionales, científicas y tec...</td>\n",
       "    </tr>\n",
       "    <tr>\n",
       "      <th>3</th>\n",
       "      <td>361941</td>\n",
       "      <td>Mujer</td>\n",
       "      <td>41</td>\n",
       "      <td>Adultos</td>\n",
       "      <td>Mujer adulta</td>\n",
       "      <td>Región del Biobío</td>\n",
       "      <td>Educación Media</td>\n",
       "      <td>10.0</td>\n",
       "      <td>10.0</td>\n",
       "      <td>Trabajadores de los servicios y vendedores de ...</td>\n",
       "      <td>...</td>\n",
       "      <td>Asalariado sector privado</td>\n",
       "      <td>Ocupado formal</td>\n",
       "      <td>Proveedor principal</td>\n",
       "      <td>Persona proveedora principal</td>\n",
       "      <td>10.0</td>\n",
       "      <td>1.0</td>\n",
       "      <td>10.0</td>\n",
       "      <td>NaN</td>\n",
       "      <td>C Industrias manufactureras</td>\n",
       "      <td>C Industrias manufactureras</td>\n",
       "    </tr>\n",
       "    <tr>\n",
       "      <th>4</th>\n",
       "      <td>688897</td>\n",
       "      <td>Mujer</td>\n",
       "      <td>65</td>\n",
       "      <td>Adultos mayores</td>\n",
       "      <td>Mujer mayor</td>\n",
       "      <td>Región de Antofagasta</td>\n",
       "      <td>Educación Media</td>\n",
       "      <td>5.0</td>\n",
       "      <td>5.0</td>\n",
       "      <td>Trabajadores de los servicios y vendedores de ...</td>\n",
       "      <td>...</td>\n",
       "      <td>Cuenta propia (independiente)</td>\n",
       "      <td>Ocupado formal</td>\n",
       "      <td>Proveedor principal</td>\n",
       "      <td>Persona proveedora principal</td>\n",
       "      <td>1.0</td>\n",
       "      <td>5.0</td>\n",
       "      <td>5.0</td>\n",
       "      <td>NaN</td>\n",
       "      <td>G Comercio al por mayor y al por menor; repara...</td>\n",
       "      <td>G Comercio al por mayor y al por menor; repara...</td>\n",
       "    </tr>\n",
       "    <tr>\n",
       "      <th>...</th>\n",
       "      <td>...</td>\n",
       "      <td>...</td>\n",
       "      <td>...</td>\n",
       "      <td>...</td>\n",
       "      <td>...</td>\n",
       "      <td>...</td>\n",
       "      <td>...</td>\n",
       "      <td>...</td>\n",
       "      <td>...</td>\n",
       "      <td>...</td>\n",
       "      <td>...</td>\n",
       "      <td>...</td>\n",
       "      <td>...</td>\n",
       "      <td>...</td>\n",
       "      <td>...</td>\n",
       "      <td>...</td>\n",
       "      <td>...</td>\n",
       "      <td>...</td>\n",
       "      <td>...</td>\n",
       "      <td>...</td>\n",
       "      <td>...</td>\n",
       "    </tr>\n",
       "    <tr>\n",
       "      <th>72147</th>\n",
       "      <td>19158326670</td>\n",
       "      <td>Hombre</td>\n",
       "      <td>37</td>\n",
       "      <td>Jovenes</td>\n",
       "      <td>Hombre joven</td>\n",
       "      <td>Región Metropolitana</td>\n",
       "      <td>Universitaria completa</td>\n",
       "      <td>45.0</td>\n",
       "      <td>45.0</td>\n",
       "      <td>Técnicos y profesionales de nivel medio</td>\n",
       "      <td>...</td>\n",
       "      <td>Asalariado sector privado</td>\n",
       "      <td>Ocupado formal</td>\n",
       "      <td>Proveedor principal</td>\n",
       "      <td>Persona proveedora principal</td>\n",
       "      <td>999.0</td>\n",
       "      <td>6.0</td>\n",
       "      <td>45.0</td>\n",
       "      <td>NaN</td>\n",
       "      <td>I Actividades de alojamiento y de servicio de ...</td>\n",
       "      <td>I Actividades de alojamiento y de servicio de ...</td>\n",
       "    </tr>\n",
       "    <tr>\n",
       "      <th>72148</th>\n",
       "      <td>19172185636</td>\n",
       "      <td>Hombre</td>\n",
       "      <td>45</td>\n",
       "      <td>Adultos</td>\n",
       "      <td>Hombre adulto</td>\n",
       "      <td>Región de Los Ríos</td>\n",
       "      <td>Educación Básica</td>\n",
       "      <td>45.0</td>\n",
       "      <td>45.0</td>\n",
       "      <td>Agricultores y trabajadores calificados agrope...</td>\n",
       "      <td>...</td>\n",
       "      <td>Asalariado sector privado</td>\n",
       "      <td>Ocupado formal</td>\n",
       "      <td>Proveedor principal</td>\n",
       "      <td>Persona proveedora principal</td>\n",
       "      <td>999.0</td>\n",
       "      <td>6.0</td>\n",
       "      <td>45.0</td>\n",
       "      <td>NaN</td>\n",
       "      <td>A Agricultura, ganadería, silvicultura y pesca</td>\n",
       "      <td>A Agricultura, ganadería, silvicultura y pesca</td>\n",
       "    </tr>\n",
       "    <tr>\n",
       "      <th>72149</th>\n",
       "      <td>19174142086</td>\n",
       "      <td>Hombre</td>\n",
       "      <td>69</td>\n",
       "      <td>Adultos mayores</td>\n",
       "      <td>Hombre mayor</td>\n",
       "      <td>Región Metropolitana</td>\n",
       "      <td>Educación Media</td>\n",
       "      <td>9.0</td>\n",
       "      <td>9.0</td>\n",
       "      <td>Operadores de instalaciones y máquinas y ensam...</td>\n",
       "      <td>...</td>\n",
       "      <td>Cuenta propia (independiente)</td>\n",
       "      <td>Ocupado informal</td>\n",
       "      <td>No corresponde</td>\n",
       "      <td>Cónyuge</td>\n",
       "      <td>3.0</td>\n",
       "      <td>3.0</td>\n",
       "      <td>9.0</td>\n",
       "      <td>NaN</td>\n",
       "      <td>H Transporte y almacenamiento</td>\n",
       "      <td>H Transporte y almacenamiento</td>\n",
       "    </tr>\n",
       "    <tr>\n",
       "      <th>72150</th>\n",
       "      <td>19176079367</td>\n",
       "      <td>Hombre</td>\n",
       "      <td>60</td>\n",
       "      <td>Adultos</td>\n",
       "      <td>Hombre adulto</td>\n",
       "      <td>Región de Los Ríos</td>\n",
       "      <td>Postgrado</td>\n",
       "      <td>9.0</td>\n",
       "      <td>9.0</td>\n",
       "      <td>Profesionales científicos e intelectuales</td>\n",
       "      <td>...</td>\n",
       "      <td>Cuenta propia (independiente)</td>\n",
       "      <td>Ocupado formal</td>\n",
       "      <td>Proveedor principal</td>\n",
       "      <td>Persona proveedora principal</td>\n",
       "      <td>9.0</td>\n",
       "      <td>1.0</td>\n",
       "      <td>9.0</td>\n",
       "      <td>NaN</td>\n",
       "      <td>M Actividades profesionales, científicas y tec...</td>\n",
       "      <td>M Actividades profesionales, científicas y tec...</td>\n",
       "    </tr>\n",
       "    <tr>\n",
       "      <th>72151</th>\n",
       "      <td>19177458271</td>\n",
       "      <td>Hombre</td>\n",
       "      <td>65</td>\n",
       "      <td>Adultos mayores</td>\n",
       "      <td>Hombre mayor</td>\n",
       "      <td>Región Metropolitana</td>\n",
       "      <td>Educación Básica</td>\n",
       "      <td>18.0</td>\n",
       "      <td>18.0</td>\n",
       "      <td>Operadores de instalaciones y máquinas y ensam...</td>\n",
       "      <td>...</td>\n",
       "      <td>Asalariado sector privado</td>\n",
       "      <td>Ocupado informal</td>\n",
       "      <td>Proveedor principal</td>\n",
       "      <td>Persona proveedora principal</td>\n",
       "      <td>3.0</td>\n",
       "      <td>6.0</td>\n",
       "      <td>18.0</td>\n",
       "      <td>NaN</td>\n",
       "      <td>H Transporte y almacenamiento</td>\n",
       "      <td>H Transporte y almacenamiento</td>\n",
       "    </tr>\n",
       "  </tbody>\n",
       "</table>\n",
       "<p>72152 rows × 21 columns</p>\n",
       "</div>"
      ],
      "text/plain": [
       "        id_persona    sexo  edad          edad_tr      sexo_edad  \\\n",
       "0            14565  Hombre    36          Jovenes   Hombre joven   \n",
       "1            78431   Mujer    56          Adultos   Mujer adulta   \n",
       "2           295619  Hombre    34          Jovenes   Hombre joven   \n",
       "3           361941   Mujer    41          Adultos   Mujer adulta   \n",
       "4           688897   Mujer    65  Adultos mayores    Mujer mayor   \n",
       "...            ...     ...   ...              ...            ...   \n",
       "72147  19158326670  Hombre    37          Jovenes   Hombre joven   \n",
       "72148  19172185636  Hombre    45          Adultos  Hombre adulto   \n",
       "72149  19174142086  Hombre    69  Adultos mayores   Hombre mayor   \n",
       "72150  19176079367  Hombre    60          Adultos  Hombre adulto   \n",
       "72151  19177458271  Hombre    65  Adultos mayores   Hombre mayor   \n",
       "\n",
       "                      region                     educa  habituales  efectivas  \\\n",
       "0          Región del Biobío           Educación Media        70.0       70.0   \n",
       "1        Región de O'Higgins          Educación Básica        45.0       45.0   \n",
       "2         Región de Tarapacá  Universitaria incompleta         5.0        5.0   \n",
       "3          Región del Biobío           Educación Media        10.0       10.0   \n",
       "4      Región de Antofagasta           Educación Media         5.0        5.0   \n",
       "...                      ...                       ...         ...        ...   \n",
       "72147   Región Metropolitana    Universitaria completa        45.0       45.0   \n",
       "72148     Región de Los Ríos          Educación Básica        45.0       45.0   \n",
       "72149   Región Metropolitana           Educación Media         9.0        9.0   \n",
       "72150     Región de Los Ríos                 Postgrado         9.0        9.0   \n",
       "72151   Región Metropolitana          Educación Básica        18.0       18.0   \n",
       "\n",
       "                                        grupoOcup_ciuo08  ...  \\\n",
       "0      Trabajadores de los servicios y vendedores de ...  ...   \n",
       "1                                Ocupaciones elementales  ...   \n",
       "2              Profesionales científicos e intelectuales  ...   \n",
       "3      Trabajadores de los servicios y vendedores de ...  ...   \n",
       "4      Trabajadores de los servicios y vendedores de ...  ...   \n",
       "...                                                  ...  ...   \n",
       "72147            Técnicos y profesionales de nivel medio  ...   \n",
       "72148  Agricultores y trabajadores calificados agrope...  ...   \n",
       "72149  Operadores de instalaciones y máquinas y ensam...  ...   \n",
       "72150          Profesionales científicos e intelectuales  ...   \n",
       "72151  Operadores de instalaciones y máquinas y ensam...  ...   \n",
       "\n",
       "                                 categoria_ocupacion         ocup_form  \\\n",
       "0                      Cuenta propia (independiente)    Ocupado formal   \n",
       "1      Personal de servicio doméstico puertas afuera    Ocupado formal   \n",
       "2                      Cuenta propia (independiente)    Ocupado formal   \n",
       "3                          Asalariado sector privado    Ocupado formal   \n",
       "4                      Cuenta propia (independiente)    Ocupado formal   \n",
       "...                                              ...               ...   \n",
       "72147                      Asalariado sector privado    Ocupado formal   \n",
       "72148                      Asalariado sector privado    Ocupado formal   \n",
       "72149                  Cuenta propia (independiente)  Ocupado informal   \n",
       "72150                  Cuenta propia (independiente)    Ocupado formal   \n",
       "72151                      Asalariado sector privado  Ocupado informal   \n",
       "\n",
       "                 proveedor                    parentesco hrs_diarias  \\\n",
       "0           No corresponde           Hijo/a o hijastro/a        10.0   \n",
       "1           No corresponde                           NaN         9.0   \n",
       "2           No corresponde                   Conviviente         5.0   \n",
       "3      Proveedor principal  Persona proveedora principal        10.0   \n",
       "4      Proveedor principal  Persona proveedora principal         1.0   \n",
       "...                    ...                           ...         ...   \n",
       "72147  Proveedor principal  Persona proveedora principal       999.0   \n",
       "72148  Proveedor principal  Persona proveedora principal       999.0   \n",
       "72149       No corresponde                       Cónyuge         3.0   \n",
       "72150  Proveedor principal  Persona proveedora principal         9.0   \n",
       "72151  Proveedor principal  Persona proveedora principal         3.0   \n",
       "\n",
       "       dias_sem  hrs_sem  empresaPaga_ciiu4  \\\n",
       "0           7.0     70.0                NaN   \n",
       "1           5.0     45.0                NaN   \n",
       "2           1.0      5.0                NaN   \n",
       "3           1.0     10.0                NaN   \n",
       "4           5.0      5.0                NaN   \n",
       "...         ...      ...                ...   \n",
       "72147       6.0     45.0                NaN   \n",
       "72148       6.0     45.0                NaN   \n",
       "72149       3.0      9.0                NaN   \n",
       "72150       1.0      9.0                NaN   \n",
       "72151       6.0     18.0                NaN   \n",
       "\n",
       "                                    empresaTrabaja_ciiu4  \\\n",
       "0      G Comercio al por mayor y al por menor; repara...   \n",
       "1      T Actividades de los hogares como empleadores;...   \n",
       "2      M Actividades profesionales, científicas y tec...   \n",
       "3                            C Industrias manufactureras   \n",
       "4      G Comercio al por mayor y al por menor; repara...   \n",
       "...                                                  ...   \n",
       "72147  I Actividades de alojamiento y de servicio de ...   \n",
       "72148     A Agricultura, ganadería, silvicultura y pesca   \n",
       "72149                      H Transporte y almacenamiento   \n",
       "72150  M Actividades profesionales, científicas y tec...   \n",
       "72151                      H Transporte y almacenamiento   \n",
       "\n",
       "                                      empresaDueno_ciiu4  \n",
       "0      G Comercio al por mayor y al por menor; repara...  \n",
       "1      T Actividades de los hogares como empleadores;...  \n",
       "2      M Actividades profesionales, científicas y tec...  \n",
       "3                            C Industrias manufactureras  \n",
       "4      G Comercio al por mayor y al por menor; repara...  \n",
       "...                                                  ...  \n",
       "72147  I Actividades de alojamiento y de servicio de ...  \n",
       "72148     A Agricultura, ganadería, silvicultura y pesca  \n",
       "72149                      H Transporte y almacenamiento  \n",
       "72150  M Actividades profesionales, científicas y tec...  \n",
       "72151                      H Transporte y almacenamiento  \n",
       "\n",
       "[72152 rows x 21 columns]"
      ]
     },
     "execution_count": 26,
     "metadata": {},
     "output_type": "execute_result"
    }
   ],
   "source": [
    "data = pd.read_csv(\"../../output/data/ENE2022_proc.csv\")\n",
    "data"
   ]
  },
  {
   "cell_type": "markdown",
   "metadata": {},
   "source": [
    "## Revisión de variables \n",
    "\n",
    "Comparar entre ENE y CASEN las distintas variables para evaluar la distribución de ambas encuestas en porcentajes y cantidades y asegurar que son comparables entre sí y que una podría explicar la otra.\n",
    "\n",
    "Se comparan:\n",
    "\n",
    "- Longitud de datos\n",
    "- edad\n",
    "- edad por tramos\n",
    "- sexo\n",
    "- region\n",
    "- nivel educacional"
   ]
  },
  {
   "cell_type": "code",
   "execution_count": 51,
   "metadata": {},
   "outputs": [
    {
     "data": {
      "text/plain": [
       "(72152, 21)"
      ]
     },
     "execution_count": 51,
     "metadata": {},
     "output_type": "execute_result"
    }
   ],
   "source": [
    "data.shape"
   ]
  },
  {
   "cell_type": "code",
   "execution_count": 28,
   "metadata": {},
   "outputs": [
    {
     "data": {
      "text/plain": [
       "count    72152.000000\n",
       "mean        43.823525\n",
       "std         14.043320\n",
       "min         18.000000\n",
       "25%         32.000000\n",
       "50%         43.000000\n",
       "75%         55.000000\n",
       "max         95.000000\n",
       "Name: edad, dtype: float64"
      ]
     },
     "execution_count": 28,
     "metadata": {},
     "output_type": "execute_result"
    }
   ],
   "source": [
    "data['edad'].describe()"
   ]
  },
  {
   "cell_type": "code",
   "execution_count": 29,
   "metadata": {},
   "outputs": [
    {
     "data": {
      "text/plain": [
       "sexo\n",
       "Hombre    55.86\n",
       "Mujer     44.14\n",
       "Name: count, dtype: float64"
      ]
     },
     "execution_count": 29,
     "metadata": {},
     "output_type": "execute_result"
    }
   ],
   "source": [
    "round((data['sexo'].value_counts()/data['sexo'].count())*100, 2)"
   ]
  },
  {
   "cell_type": "code",
   "execution_count": 30,
   "metadata": {},
   "outputs": [
    {
     "name": "stdout",
     "output_type": "stream",
     "text": [
      "region\n",
      "Región Metropolitana                14914\n",
      "Región de Valparaíso                 8070\n",
      "Región del Biobío                    7573\n",
      "Región del Maule                     5287\n",
      "Región de O'Higgins                  4298\n",
      "Región de Los Lagos                  4285\n",
      "Región de Coquimbo                   4262\n",
      "Región de La Araucanía               3486\n",
      "Región de Los Ríos                   3170\n",
      "Región de Ñuble                      3140\n",
      "Región de Antofagasta                2948\n",
      "Región de Atacama                    2702\n",
      "Región de Arica y Parinacota         2284\n",
      "Región de Magallanes y Antártica     2032\n",
      "Región de Aysén                      1995\n",
      "Región de Tarapacá                   1706\n",
      "Name: count, dtype: int64 \n",
      "\n",
      "\n"
     ]
    }
   ],
   "source": [
    "print(data['region'].value_counts(), '\\n\\n')"
   ]
  },
  {
   "cell_type": "code",
   "execution_count": 31,
   "metadata": {},
   "outputs": [
    {
     "name": "stdout",
     "output_type": "stream",
     "text": [
      "region\n",
      "Región Metropolitana                20.67\n",
      "Región de Valparaíso                11.18\n",
      "Región del Biobío                   10.50\n",
      "Región del Maule                     7.33\n",
      "Región de O'Higgins                  5.96\n",
      "Región de Los Lagos                  5.94\n",
      "Región de Coquimbo                   5.91\n",
      "Región de La Araucanía               4.83\n",
      "Región de Los Ríos                   4.39\n",
      "Región de Ñuble                      4.35\n",
      "Región de Antofagasta                4.09\n",
      "Región de Atacama                    3.74\n",
      "Región de Arica y Parinacota         3.17\n",
      "Región de Magallanes y Antártica     2.82\n",
      "Región de Aysén                      2.76\n",
      "Región de Tarapacá                   2.36\n",
      "Name: count, dtype: float64\n"
     ]
    }
   ],
   "source": [
    "print(round((data['region'].value_counts()/data['region'].count())*100, 2))"
   ]
  },
  {
   "cell_type": "code",
   "execution_count": 32,
   "metadata": {},
   "outputs": [
    {
     "name": "stdout",
     "output_type": "stream",
     "text": [
      "edad_tr\n",
      "Adultos            36820\n",
      "Jovenes            30038\n",
      "Adultos mayores     5294\n",
      "Name: count, dtype: int64 \n",
      "\n",
      " edad_tr\n",
      "Adultos            51.03\n",
      "Jovenes            41.63\n",
      "Adultos mayores     7.34\n",
      "Name: count, dtype: float64\n"
     ]
    }
   ],
   "source": [
    "print(data['edad_tr'].value_counts(), '\\n\\n',\n",
    "      round((data['edad_tr'].value_counts()/data['edad_tr'].count())*100, 2))"
   ]
  },
  {
   "cell_type": "code",
   "execution_count": 33,
   "metadata": {},
   "outputs": [
    {
     "name": "stdout",
     "output_type": "stream",
     "text": [
      "sexo_edad\n",
      "Hombre adulto    20513\n",
      "Mujer adulta     16307\n",
      "Hombre joven     16180\n",
      "Mujer joven      13858\n",
      "Hombre mayor      3613\n",
      "Mujer mayor       1681\n",
      "Name: count, dtype: int64 \n",
      "\n",
      " sexo_edad\n",
      "Hombre adulto    28.43\n",
      "Mujer adulta     22.60\n",
      "Hombre joven     22.42\n",
      "Mujer joven      19.21\n",
      "Hombre mayor      5.01\n",
      "Mujer mayor       2.33\n",
      "Name: count, dtype: float64\n"
     ]
    }
   ],
   "source": [
    "print(data['sexo_edad'].value_counts(), '\\n\\n',\n",
    "      round((data['sexo_edad'].value_counts()/data['sexo_edad'].count())*100, 2))"
   ]
  },
  {
   "cell_type": "code",
   "execution_count": 34,
   "metadata": {},
   "outputs": [
    {
     "name": "stdout",
     "output_type": "stream",
     "text": [
      "educa\n",
      "Educación Media             23956\n",
      "Técnica completa            15592\n",
      "Educación Básica            12640\n",
      "Universitaria completa      12176\n",
      "Universitaria incompleta     3486\n",
      "Técnica incompleta           2047\n",
      "Postgrado                    1742\n",
      "Otro nivel educativo          513\n",
      "Name: count, dtype: int64 \n",
      "\n",
      " educa\n",
      "Educación Media             33.20\n",
      "Técnica completa            21.61\n",
      "Educación Básica            17.52\n",
      "Universitaria completa      16.88\n",
      "Universitaria incompleta     4.83\n",
      "Técnica incompleta           2.84\n",
      "Postgrado                    2.41\n",
      "Otro nivel educativo         0.71\n",
      "Name: count, dtype: float64\n"
     ]
    }
   ],
   "source": [
    "print(data['educa'].value_counts(), '\\n\\n',\n",
    "      round((data['educa'].value_counts()/data['educa'].count())*100, 2))"
   ]
  },
  {
   "cell_type": "code",
   "execution_count": 36,
   "metadata": {},
   "outputs": [
    {
     "data": {
      "text/plain": [
       "Hombre - Educación Media             13905\n",
       "Mujer - Educación Media              10051\n",
       "Hombre - Educación Básica             8228\n",
       "Hombre - Técnica completa             8030\n",
       "Mujer - Técnica completa              7562\n",
       "Mujer - Universitaria completa        6339\n",
       "Hombre - Universitaria completa       5837\n",
       "Mujer - Educación Básica              4412\n",
       "Hombre - Universitaria incompleta     1960\n",
       "Mujer - Universitaria incompleta      1526\n",
       "Hombre - Técnica incompleta           1149\n",
       "Mujer - Técnica incompleta             898\n",
       "Mujer - Postgrado                      885\n",
       "Hombre - Postgrado                     857\n",
       "Hombre - Otro nivel educativo          340\n",
       "Mujer - Otro nivel educativo           173\n",
       "Name: count, dtype: int64"
      ]
     },
     "execution_count": 36,
     "metadata": {},
     "output_type": "execute_result"
    }
   ],
   "source": [
    "(data['sexo'] + ' - ' + data['educa']).value_counts()"
   ]
  },
  {
   "cell_type": "code",
   "execution_count": 48,
   "metadata": {},
   "outputs": [
    {
     "data": {
      "text/plain": [
       "Hombre - Educación Media             19.27\n",
       "Mujer - Educación Media              13.93\n",
       "Hombre - Educación Básica            11.40\n",
       "Hombre - Técnica completa            11.13\n",
       "Mujer - Técnica completa             10.48\n",
       "Mujer - Universitaria completa        8.79\n",
       "Hombre - Universitaria completa       8.09\n",
       "Mujer - Educación Básica              6.11\n",
       "Hombre - Universitaria incompleta     2.72\n",
       "Mujer - Universitaria incompleta      2.11\n",
       "Hombre - Técnica incompleta           1.59\n",
       "Mujer - Técnica incompleta            1.24\n",
       "Mujer - Postgrado                     1.23\n",
       "Hombre - Postgrado                    1.19\n",
       "Hombre - Otro nivel educativo         0.47\n",
       "Mujer - Otro nivel educativo          0.24\n",
       "Name: count, dtype: float64"
      ]
     },
     "execution_count": 48,
     "metadata": {},
     "output_type": "execute_result"
    }
   ],
   "source": [
    "round(((data['sexo'] + ' - ' + data['educa']).value_counts()/\n",
    "       (data['sexo'] + ' - ' + data['educa']).count())*100, 2)"
   ]
  },
  {
   "cell_type": "code",
   "execution_count": 42,
   "metadata": {},
   "outputs": [
    {
     "data": {
      "text/plain": [
       "Hombre - Región Metropolitana                8051\n",
       "Hombre - Región de Valparaíso                4444\n",
       "Hombre - Región del Biobío                   4188\n",
       "Hombre - Región del Maule                    3030\n",
       "Hombre - Región de O'Higgins                 2523\n",
       "Hombre - Región de Los Lagos                 2499\n",
       "Hombre - Región de Coquimbo                  2486\n",
       "Hombre - Región de La Araucanía              1977\n",
       "Hombre - Región de Ñuble                     1837\n",
       "Hombre - Región de Los Ríos                  1785\n",
       "Hombre - Región de Antofagasta               1671\n",
       "Hombre - Región de Atacama                   1490\n",
       "Hombre - Región de Arica y Parinacota        1210\n",
       "Hombre - Región de Magallanes y Antártica    1137\n",
       "Hombre - Región de Aysén                     1035\n",
       "Hombre - Región de Tarapacá                   943\n",
       "Name: count, dtype: int64"
      ]
     },
     "execution_count": 42,
     "metadata": {},
     "output_type": "execute_result"
    }
   ],
   "source": [
    "hombres = data[data['sexo'] == 'Hombre']\n",
    "(hombres['sexo'] + ' - ' + hombres['region']).value_counts()"
   ]
  },
  {
   "cell_type": "code",
   "execution_count": 47,
   "metadata": {},
   "outputs": [
    {
     "data": {
      "text/plain": [
       "Hombre - Región Metropolitana                19.97\n",
       "Hombre - Región de Valparaíso                11.03\n",
       "Hombre - Región del Biobío                   10.39\n",
       "Hombre - Región del Maule                     7.52\n",
       "Hombre - Región de O'Higgins                  6.26\n",
       "Hombre - Región de Los Lagos                  6.20\n",
       "Hombre - Región de Coquimbo                   6.17\n",
       "Hombre - Región de La Araucanía               4.90\n",
       "Hombre - Región de Ñuble                      4.56\n",
       "Hombre - Región de Los Ríos                   4.43\n",
       "Hombre - Región de Antofagasta                4.15\n",
       "Hombre - Región de Atacama                    3.70\n",
       "Hombre - Región de Arica y Parinacota         3.00\n",
       "Hombre - Región de Magallanes y Antártica     2.82\n",
       "Hombre - Región de Aysén                      2.57\n",
       "Hombre - Región de Tarapacá                   2.34\n",
       "Name: count, dtype: float64"
      ]
     },
     "execution_count": 47,
     "metadata": {},
     "output_type": "execute_result"
    }
   ],
   "source": [
    "round(((hombres['sexo'] + ' - ' + hombres['region']).value_counts()/\n",
    "       (hombres['sexo'] + ' - ' + hombres['region']).count())*100,2)"
   ]
  },
  {
   "cell_type": "code",
   "execution_count": 44,
   "metadata": {},
   "outputs": [
    {
     "data": {
      "text/plain": [
       "Mujer - Región Metropolitana                6863\n",
       "Mujer - Región de Valparaíso                3626\n",
       "Mujer - Región del Biobío                   3385\n",
       "Mujer - Región del Maule                    2257\n",
       "Mujer - Región de Los Lagos                 1786\n",
       "Mujer - Región de Coquimbo                  1776\n",
       "Mujer - Región de O'Higgins                 1775\n",
       "Mujer - Región de La Araucanía              1509\n",
       "Mujer - Región de Los Ríos                  1385\n",
       "Mujer - Región de Ñuble                     1303\n",
       "Mujer - Región de Antofagasta               1277\n",
       "Mujer - Región de Atacama                   1212\n",
       "Mujer - Región de Arica y Parinacota        1074\n",
       "Mujer - Región de Aysén                      960\n",
       "Mujer - Región de Magallanes y Antártica     895\n",
       "Mujer - Región de Tarapacá                   763\n",
       "Name: count, dtype: int64"
      ]
     },
     "execution_count": 44,
     "metadata": {},
     "output_type": "execute_result"
    }
   ],
   "source": [
    "mujeres = data[data['sexo'] == 'Mujer']\n",
    "(mujeres['sexo'] + ' - ' + mujeres['region']).value_counts()"
   ]
  },
  {
   "cell_type": "code",
   "execution_count": 49,
   "metadata": {},
   "outputs": [
    {
     "data": {
      "text/plain": [
       "Mujer - Región Metropolitana                21.55\n",
       "Mujer - Región de Valparaíso                11.39\n",
       "Mujer - Región del Biobío                   10.63\n",
       "Mujer - Región del Maule                     7.09\n",
       "Mujer - Región de Los Lagos                  5.61\n",
       "Mujer - Región de Coquimbo                   5.58\n",
       "Mujer - Región de O'Higgins                  5.57\n",
       "Mujer - Región de La Araucanía               4.74\n",
       "Mujer - Región de Los Ríos                   4.35\n",
       "Mujer - Región de Ñuble                      4.09\n",
       "Mujer - Región de Antofagasta                4.01\n",
       "Mujer - Región de Atacama                    3.81\n",
       "Mujer - Región de Arica y Parinacota         3.37\n",
       "Mujer - Región de Aysén                      3.01\n",
       "Mujer - Región de Magallanes y Antártica     2.81\n",
       "Mujer - Región de Tarapacá                   2.40\n",
       "Name: count, dtype: float64"
      ]
     },
     "execution_count": 49,
     "metadata": {},
     "output_type": "execute_result"
    }
   ],
   "source": [
    "round(((mujeres['sexo'] + ' - ' + mujeres['region']).value_counts()/\n",
    "       (mujeres['sexo'] + ' - ' + mujeres['region']).count())*100,2)"
   ]
  },
  {
   "cell_type": "code",
   "execution_count": 53,
   "metadata": {},
   "outputs": [
    {
     "name": "stdout",
     "output_type": "stream",
     "text": [
      "count    40306.00\n",
      "mean        44.59\n",
      "std         14.52\n",
      "min         18.00\n",
      "25%         32.00\n",
      "50%         44.00\n",
      "75%         56.00\n",
      "max         95.00\n",
      "Name: edad, dtype: float64 \n",
      "\n",
      " count    31846.00\n",
      "mean        42.86\n",
      "std         13.35\n",
      "min         18.00\n",
      "25%         32.00\n",
      "50%         42.00\n",
      "75%         53.00\n",
      "max         94.00\n",
      "Name: edad, dtype: float64\n"
     ]
    }
   ],
   "source": [
    "print(round(hombres['edad'].describe(), 2), '\\n\\n',\n",
    "      round(mujeres['edad'].describe(), 2))"
   ]
  },
  {
   "cell_type": "markdown",
   "metadata": {},
   "source": [
    "## Visualización de los datos\n",
    "\n",
    "Generar gráficos de las diversas variables laborales."
   ]
  },
  {
   "cell_type": "code",
   "execution_count": null,
   "metadata": {},
   "outputs": [],
   "source": [
    "plt.figure(figsize=(8,6))\n",
    "sns.histplot(data['edad'], bins=30, kde=True, color='lightcoral')\n",
    "plt.xlabel('Edad')\n",
    "plt.ylabel('Frecuencia')\n",
    "plt.title('Histograma de la Edad')\n",
    "\n",
    "media = data['edad'].mean()\n",
    "mediana = data['edad'].median()\n",
    "moda = data['edad'].mode()[0]\n",
    "\n",
    "handles = [\n",
    "    plt.Line2D([0], [0], color='none', label=f'Media: {media:.2f}'),\n",
    "    plt.Line2D([0], [0], color='none', label=f'Mediana: {mediana:.2f}'),\n",
    "    plt.Line2D([0], [0], color='none', label=f'Moda: {moda:.2f}')\n",
    "]\n",
    "plt.legend(handles=handles, loc='upper right')\n",
    "\n",
    "plt.tight_layout()\n",
    "# plt.savefig('../../output/fig/HistoEdad.pdf')\n",
    "plt.show()"
   ]
  }
 ],
 "metadata": {
  "kernelspec": {
   "display_name": "Python 3",
   "language": "python",
   "name": "python3"
  },
  "language_info": {
   "codemirror_mode": {
    "name": "ipython",
    "version": 3
   },
   "file_extension": ".py",
   "mimetype": "text/x-python",
   "name": "python",
   "nbconvert_exporter": "python",
   "pygments_lexer": "ipython3",
   "version": "3.12.5"
  }
 },
 "nbformat": 4,
 "nbformat_minor": 2
}
